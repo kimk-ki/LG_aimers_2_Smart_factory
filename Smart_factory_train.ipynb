{
 "cells": [
  {
   "cell_type": "code",
   "execution_count": 7,
   "metadata": {},
   "outputs": [],
   "source": [
    "import pandas as pd\n",
    "import random\n",
    "import os\n",
    "import numpy as np\n",
    "\n",
    "from sklearn.preprocessing import LabelEncoder\n",
    "from sklearn.ensemble import RandomForestClassifier, RandomForestRegressor"
   ]
  },
  {
   "cell_type": "code",
   "execution_count": 8,
   "metadata": {},
   "outputs": [],
   "source": [
    "def seed_everything(seed):\n",
    "    random.seed(seed)\n",
    "    os.environ['PYTHONHASHSEED'] = str(seed)\n",
    "    np.random.seed(seed)\n",
    "seed_everything(37) # Seed 고정"
   ]
  },
  {
   "cell_type": "code",
   "execution_count": 10,
   "metadata": {},
   "outputs": [],
   "source": [
    "train_df = pd.read_csv('./smart factory/train.csv')\n",
    "test_df = pd.read_csv('./smart factory/test.csv')"
   ]
  },
  {
   "cell_type": "code",
   "execution_count": 12,
   "metadata": {},
   "outputs": [],
   "source": [
    "train_x = train_df.drop(columns=['TIMESTAMP', 'Y_Class'])\n",
    "train_y = train_df['Y_Quality']\n",
    "\n",
    "test_x = test_df.drop(columns=['TIMESTAMP'])"
   ]
  },
  {
   "cell_type": "code",
   "execution_count": 13,
   "metadata": {},
   "outputs": [],
   "source": [
    "submit = pd.read_csv('./smart factory/sample_submission.csv')"
   ]
  },
  {
   "cell_type": "code",
   "execution_count": 14,
   "metadata": {},
   "outputs": [
    {
     "name": "stderr",
     "output_type": "stream",
     "text": [
      "C:\\Users\\kim\\AppData\\Local\\Temp\\ipykernel_18104\\2777266981.py:11: FutureWarning: The default value of numeric_only in DataFrame.mean is deprecated. In a future version, it will default to False. In addition, specifying 'numeric_only=None' is deprecated. Select only valid columns or specify the value of numeric_only to silence this warning.\n",
      "  test_x_L1_A = test_x_L1_A.fillna(test_x_L1_A.mean())\n",
      "C:\\Users\\kim\\AppData\\Local\\Temp\\ipykernel_18104\\2777266981.py:21: FutureWarning: The default value of numeric_only in DataFrame.mean is deprecated. In a future version, it will default to False. In addition, specifying 'numeric_only=None' is deprecated. Select only valid columns or specify the value of numeric_only to silence this warning.\n",
      "  train_x_L1_A = train_x_L1_A.fillna(test_x_L1_A.mean())\n"
     ]
    },
    {
     "name": "stdout",
     "output_type": "stream",
     "text": [
      "Done.\n",
      "0.006588730129999387\n"
     ]
    },
    {
     "data": {
      "text/plain": [
       "7     0.526085\n",
       "8     0.528160\n",
       "14    0.523869\n",
       "35    0.522318\n",
       "41    0.526234\n",
       "42    0.525461\n",
       "52    0.524440\n",
       "53    0.522512\n",
       "54    0.525120\n",
       "61    0.528799\n",
       "64    0.522211\n",
       "65    0.522244\n",
       "66    0.526609\n",
       "Name: Y_Quality, dtype: float64"
      ]
     },
     "execution_count": 14,
     "metadata": {},
     "output_type": "execute_result"
    }
   ],
   "source": [
    "test_x_L1_A = test_x.loc[(test_x['LINE']=='T050304') & (test_x['PRODUCT_CODE']=='A_31')]\n",
    "test_x_L1_A = test_x_L1_A.dropna(how = 'all', axis=1)\n",
    "test_x_L1_A_minmax = test_x_L1_A.drop(columns=['PRODUCT_ID', 'LINE', 'PRODUCT_CODE'])\n",
    "test_x_L1_A_minmax = pd.DataFrame(test_x_L1_A_minmax.apply(lambda x: x.max() - x.min(), axis=0))\n",
    "test_x_L1_A_minmax_1 = test_x_L1_A_minmax.transpose()\n",
    "list_zero_index = []\n",
    "for i in range(len(test_x_L1_A_minmax)):\n",
    "    if test_x_L1_A_minmax_1[test_x_L1_A_minmax.index[i]][0]==0.0:\n",
    "        list_zero_index.append(test_x_L1_A_minmax.index[i])\n",
    "test_x_L1_A = test_x_L1_A.drop(list_zero_index, axis=1)\n",
    "test_x_L1_A = test_x_L1_A.fillna(test_x_L1_A.mean())\n",
    "# test_x_L1_A = test_x_L1_A.fillna(0)\n",
    "\n",
    "train_x_L1_A = train_x.loc[(train_x['LINE']=='T050304') & (train_x['PRODUCT_CODE']=='A_31')]\n",
    "train_x_L1_A_Q = train_x_L1_A['Y_Quality']\n",
    "train_x_L1_A = train_x_L1_A[test_x_L1_A.columns]\n",
    "\n",
    "test_x_L1_A = test_x_L1_A.drop('X_1407', axis=1)\n",
    "train_x_L1_A = train_x_L1_A.drop('X_1407', axis=1)\n",
    "train_x_L1_A = pd.concat([train_x_L1_A_Q,train_x_L1_A], axis=1)\n",
    "train_x_L1_A = train_x_L1_A.fillna(test_x_L1_A.mean())\n",
    "# train_x_L1_A = train_x_L1_A.fillna(0)\n",
    "\n",
    "train_x_L1_A = train_x_L1_A.drop(columns=['PRODUCT_ID', 'LINE', 'PRODUCT_CODE'])\n",
    "corrMat = train_x_L1_A.corr()\n",
    "drop_list = corrMat['Y_Quality'].loc[(corrMat['Y_Quality']<0.1)&(corrMat['Y_Quality']>-0.1)].index\n",
    "test_x_L1_A = test_x_L1_A.drop(drop_list, axis=1)\n",
    "train_x_L1_A = train_x_L1_A.drop(drop_list, axis=1)\n",
    "train_x_L1_A\n",
    "train_y_L1_A = train_x_L1_A['Y_Quality']\n",
    "train_x_L1_A = train_x_L1_A.drop('Y_Quality', axis=1)\n",
    "test_x_L1_A = test_x_L1_A.drop(columns=['PRODUCT_ID', 'LINE', 'PRODUCT_CODE'])\n",
    "\n",
    "RF_L1_A = RandomForestRegressor(random_state=37,n_estimators = 100).fit(train_x_L1_A, train_y_L1_A)\n",
    "print('Done.')\n",
    "test_x_L1_A = test_x_L1_A[train_x_L1_A.columns]\n",
    "preds = RF_L1_A.predict(test_x_L1_A)\n",
    "test_x_L1_A['Y_Quality'] = preds\n",
    "print(test_x_L1_A['Y_Quality'].max()-test_x_L1_A['Y_Quality'].min())\n",
    "test_x_L1_A['Y_Quality']"
   ]
  },
  {
   "cell_type": "code",
   "execution_count": 15,
   "metadata": {},
   "outputs": [
    {
     "name": "stderr",
     "output_type": "stream",
     "text": [
      "C:\\Users\\kim\\AppData\\Local\\Temp\\ipykernel_18104\\1515346893.py:11: FutureWarning: The default value of numeric_only in DataFrame.mean is deprecated. In a future version, it will default to False. In addition, specifying 'numeric_only=None' is deprecated. Select only valid columns or specify the value of numeric_only to silence this warning.\n",
      "  test_x_L2_A = test_x_L2_A.fillna(test_x_L2_A.mean())\n",
      "C:\\Users\\kim\\AppData\\Local\\Temp\\ipykernel_18104\\1515346893.py:21: FutureWarning: The default value of numeric_only in DataFrame.mean is deprecated. In a future version, it will default to False. In addition, specifying 'numeric_only=None' is deprecated. Select only valid columns or specify the value of numeric_only to silence this warning.\n",
      "  train_x_L2_A = train_x_L2_A.fillna(test_x_L2_A.mean())\n"
     ]
    },
    {
     "name": "stdout",
     "output_type": "stream",
     "text": [
      "Done.\n",
      "0.029818952179999414\n"
     ]
    },
    {
     "data": {
      "text/plain": [
       "3      0.527492\n",
       "6      0.528730\n",
       "10     0.529215\n",
       "11     0.529352\n",
       "38     0.550374\n",
       "40     0.531055\n",
       "71     0.520555\n",
       "86     0.523601\n",
       "88     0.523898\n",
       "89     0.525373\n",
       "116    0.528302\n",
       "117    0.529203\n",
       "141    0.528712\n",
       "142    0.528622\n",
       "Name: Y_Quality, dtype: float64"
      ]
     },
     "execution_count": 15,
     "metadata": {},
     "output_type": "execute_result"
    }
   ],
   "source": [
    "test_x_L2_A = test_x.loc[(test_x['LINE']=='T010305') & (test_x['PRODUCT_CODE']=='A_31')]\n",
    "test_x_L2_A = test_x_L2_A.dropna(how = 'all', axis=1)\n",
    "test_x_L2_A_minmax = test_x_L2_A.drop(columns=['PRODUCT_ID', 'LINE', 'PRODUCT_CODE'])\n",
    "test_x_L2_A_minmax = pd.DataFrame(test_x_L2_A_minmax.apply(lambda x: x.max() - x.min(), axis=0))\n",
    "test_x_L2_A_minmax_1 = test_x_L2_A_minmax.transpose()\n",
    "list_zero_index = []\n",
    "for i in range(len(test_x_L2_A_minmax)):\n",
    "    if test_x_L2_A_minmax_1[test_x_L2_A_minmax.index[i]][0]==0.0:\n",
    "        list_zero_index.append(test_x_L2_A_minmax.index[i])\n",
    "test_x_L2_A = test_x_L2_A.drop(list_zero_index, axis=1)\n",
    "test_x_L2_A = test_x_L2_A.fillna(test_x_L2_A.mean())\n",
    "# test_x_L2_A = test_x_L2_A.fillna(0)\n",
    "\n",
    "train_x_L2_A = train_x.loc[(train_x['LINE']=='T010305') & (train_x['PRODUCT_CODE']=='A_31')]\n",
    "train_x_L2_A_Q = train_x_L2_A['Y_Quality']\n",
    "train_x_L2_A = train_x_L2_A[test_x_L2_A.columns]\n",
    "\n",
    "test_x_L2_A = test_x_L2_A.drop(columns=['X_1407', 'X_1525', 'X_1524','X_1523'], axis=1)\n",
    "train_x_L2_A = train_x_L2_A.drop(columns=['X_1407', 'X_1525', 'X_1524','X_1523'], axis=1)\n",
    "train_x_L2_A = pd.concat([train_x_L2_A_Q,train_x_L2_A], axis=1)\n",
    "train_x_L2_A = train_x_L2_A.fillna(test_x_L2_A.mean())\n",
    "# train_x_L2_A = train_x_L2_A.fillna(0)\n",
    "\n",
    "train_x_L2_A = train_x_L2_A.drop(columns=['PRODUCT_ID', 'LINE', 'PRODUCT_CODE'])\n",
    "corrMat = train_x_L2_A.corr()\n",
    "drop_list = corrMat['Y_Quality'].loc[(corrMat['Y_Quality']<0.1)&(corrMat['Y_Quality']>-0.1)].index\n",
    "test_x_L2_A = test_x_L2_A.drop(drop_list, axis=1)\n",
    "train_x_L2_A = train_x_L2_A.drop(drop_list, axis=1)\n",
    "train_x_L2_A\n",
    "train_y_L2_A = train_x_L2_A['Y_Quality']\n",
    "train_x_L2_A = train_x_L2_A.drop('Y_Quality', axis=1)\n",
    "test_x_L2_A = test_x_L2_A.drop(columns=['PRODUCT_ID', 'LINE', 'PRODUCT_CODE'])\n",
    "\n",
    "RF_L2_A = RandomForestRegressor(random_state=37,n_estimators = 100).fit(train_x_L2_A, train_y_L2_A)\n",
    "print('Done.')\n",
    "test_x_L2_A = test_x_L2_A[train_x_L2_A.columns]\n",
    "preds = RF_L2_A.predict(test_x_L2_A)\n",
    "test_x_L2_A['Y_Quality'] = preds\n",
    "print(test_x_L2_A['Y_Quality'].max()-test_x_L2_A['Y_Quality'].min())\n",
    "test_x_L2_A['Y_Quality']\n"
   ]
  },
  {
   "cell_type": "code",
   "execution_count": 16,
   "metadata": {},
   "outputs": [
    {
     "name": "stderr",
     "output_type": "stream",
     "text": [
      "C:\\Users\\kim\\AppData\\Local\\Temp\\ipykernel_18104\\4016357210.py:11: FutureWarning: The default value of numeric_only in DataFrame.mean is deprecated. In a future version, it will default to False. In addition, specifying 'numeric_only=None' is deprecated. Select only valid columns or specify the value of numeric_only to silence this warning.\n",
      "  test_x_L3_A = test_x_L3_A.fillna(test_x_L3_A.mean())\n",
      "C:\\Users\\kim\\AppData\\Local\\Temp\\ipykernel_18104\\4016357210.py:22: FutureWarning: The default value of numeric_only in DataFrame.mean is deprecated. In a future version, it will default to False. In addition, specifying 'numeric_only=None' is deprecated. Select only valid columns or specify the value of numeric_only to silence this warning.\n",
      "  train_x_L3_A = train_x_L3_A.fillna(test_x_L3_A.mean())\n"
     ]
    },
    {
     "name": "stdout",
     "output_type": "stream",
     "text": [
      "Done.\n",
      "0.011425507929999967\n"
     ]
    },
    {
     "data": {
      "text/plain": [
       "4      0.533796\n",
       "5      0.533860\n",
       "9      0.534581\n",
       "12     0.535150\n",
       "37     0.523725\n",
       "39     0.530360\n",
       "72     0.532999\n",
       "79     0.532114\n",
       "87     0.533195\n",
       "109    0.532229\n",
       "114    0.533040\n",
       "115    0.533764\n",
       "128    0.531775\n",
       "129    0.532609\n",
       "Name: Y_Quality, dtype: float64"
      ]
     },
     "execution_count": 16,
     "metadata": {},
     "output_type": "execute_result"
    }
   ],
   "source": [
    "test_x_L3_A = test_x.loc[(test_x['LINE']=='T010306') & (test_x['PRODUCT_CODE']=='A_31')]\n",
    "test_x_L3_A = test_x_L3_A.dropna(how = 'all', axis=1)\n",
    "test_x_L3_A_minmax = test_x_L3_A.drop(columns=['PRODUCT_ID', 'LINE', 'PRODUCT_CODE'])\n",
    "test_x_L3_A_minmax = pd.DataFrame(test_x_L3_A_minmax.apply(lambda x: x.max() - x.min(), axis=0))\n",
    "test_x_L3_A_minmax_1 = test_x_L3_A_minmax.transpose()\n",
    "list_zero_index = []\n",
    "for i in range(len(test_x_L3_A_minmax)):\n",
    "    if test_x_L3_A_minmax_1[test_x_L3_A_minmax.index[i]][0]==0.0:\n",
    "        list_zero_index.append(test_x_L3_A_minmax.index[i])\n",
    "test_x_L3_A = test_x_L3_A.drop(list_zero_index, axis=1)\n",
    "test_x_L3_A = test_x_L3_A.fillna(test_x_L3_A.mean())\n",
    "# test_x_L3_A = test_x_L3_A.fillna(0)\n",
    "\n",
    "train_x_L3_A = train_x.loc[(train_x['LINE']=='T010306') & (train_x['PRODUCT_CODE']=='A_31')]\n",
    "train_x_L3_A_Q = train_x_L3_A['Y_Quality']\n",
    "train_x_L3_A = train_x_L3_A[test_x_L3_A.columns]\n",
    "train_x_L3_A.isnull().sum().sort_values()\n",
    "\n",
    "test_x_L3_A = test_x_L3_A.drop('X_1407', axis=1)\n",
    "train_x_L3_A = train_x_L3_A.drop('X_1407', axis=1)\n",
    "train_x_L3_A = pd.concat([train_x_L3_A_Q,train_x_L3_A], axis=1)\n",
    "train_x_L3_A = train_x_L3_A.fillna(test_x_L3_A.mean())\n",
    "# train_x_L3_A = train_x_L3_A.fillna(0)\n",
    "\n",
    "train_x_L3_A = train_x_L3_A.drop(columns=['PRODUCT_ID', 'LINE', 'PRODUCT_CODE'])\n",
    "corrMat = train_x_L3_A.corr()\n",
    "drop_list = corrMat['Y_Quality'].loc[(corrMat['Y_Quality']<0.1)&(corrMat['Y_Quality']>-0.1)].index\n",
    "test_x_L3_A = test_x_L3_A.drop(drop_list, axis=1)\n",
    "train_x_L3_A = train_x_L3_A.drop(drop_list, axis=1)\n",
    "train_x_L3_A\n",
    "train_y_L3_A = train_x_L3_A['Y_Quality']\n",
    "train_x_L3_A = train_x_L3_A.drop('Y_Quality', axis=1)\n",
    "test_x_L3_A = test_x_L3_A.drop(columns=['PRODUCT_ID', 'LINE', 'PRODUCT_CODE'])\n",
    "\n",
    "RF_L3_A = RandomForestRegressor(random_state=37,n_estimators = 100).fit(train_x_L3_A, train_y_L3_A)\n",
    "print('Done.')\n",
    "test_x_L3_A = test_x_L3_A[train_x_L3_A.columns]\n",
    "preds = RF_L3_A.predict(test_x_L3_A)\n",
    "test_x_L3_A['Y_Quality'] = preds\n",
    "print(test_x_L3_A['Y_Quality'].max()-test_x_L3_A['Y_Quality'].min())\n",
    "test_x_L3_A['Y_Quality']\n"
   ]
  },
  {
   "cell_type": "code",
   "execution_count": 17,
   "metadata": {},
   "outputs": [
    {
     "name": "stderr",
     "output_type": "stream",
     "text": [
      "C:\\Users\\kim\\AppData\\Local\\Temp\\ipykernel_18104\\1325501326.py:11: FutureWarning: The default value of numeric_only in DataFrame.mean is deprecated. In a future version, it will default to False. In addition, specifying 'numeric_only=None' is deprecated. Select only valid columns or specify the value of numeric_only to silence this warning.\n",
      "  test_x_L4_A = test_x_L4_A.fillna(test_x_L4_A.mean())\n",
      "C:\\Users\\kim\\AppData\\Local\\Temp\\ipykernel_18104\\1325501326.py:21: FutureWarning: The default value of numeric_only in DataFrame.mean is deprecated. In a future version, it will default to False. In addition, specifying 'numeric_only=None' is deprecated. Select only valid columns or specify the value of numeric_only to silence this warning.\n",
      "  train_x_L4_A = train_x_L4_A.fillna(test_x_L4_A.mean())\n"
     ]
    },
    {
     "name": "stdout",
     "output_type": "stream",
     "text": [
      "Done.\n",
      "0.010990587330000134\n"
     ]
    },
    {
     "data": {
      "text/plain": [
       "13     0.535710\n",
       "36     0.530487\n",
       "62     0.531986\n",
       "63     0.534799\n",
       "130    0.539951\n",
       "131    0.532434\n",
       "132    0.530918\n",
       "248    0.535984\n",
       "249    0.530191\n",
       "250    0.535594\n",
       "251    0.537268\n",
       "252    0.536698\n",
       "253    0.530213\n",
       "254    0.538130\n",
       "255    0.536498\n",
       "260    0.538181\n",
       "263    0.541182\n",
       "280    0.533078\n",
       "281    0.533315\n",
       "282    0.532241\n",
       "283    0.539779\n",
       "284    0.532471\n",
       "285    0.538813\n",
       "286    0.532223\n",
       "292    0.532475\n",
       "293    0.531913\n",
       "Name: Y_Quality, dtype: float64"
      ]
     },
     "execution_count": 17,
     "metadata": {},
     "output_type": "execute_result"
    }
   ],
   "source": [
    "test_x_L4_A = test_x.loc[(test_x['LINE']=='T050307') & (test_x['PRODUCT_CODE']=='A_31')]\n",
    "test_x_L4_A = test_x_L4_A.dropna(how = 'all', axis=1)\n",
    "test_x_L4_A_minmax = test_x_L4_A.drop(columns=['PRODUCT_ID', 'LINE', 'PRODUCT_CODE'])\n",
    "test_x_L4_A_minmax = pd.DataFrame(test_x_L4_A_minmax.apply(lambda x: x.max() - x.min(), axis=0))\n",
    "test_x_L4_A_minmax_1 = test_x_L4_A_minmax.transpose()\n",
    "list_zero_index = []\n",
    "for i in range(len(test_x_L4_A_minmax)):\n",
    "    if test_x_L4_A_minmax_1[test_x_L4_A_minmax.index[i]][0]==0.0:\n",
    "        list_zero_index.append(test_x_L4_A_minmax.index[i])\n",
    "test_x_L4_A = test_x_L4_A.drop(list_zero_index, axis=1)\n",
    "test_x_L4_A = test_x_L4_A.fillna(test_x_L4_A.mean())\n",
    "# test_x_L4_A = test_x_L4_A.fillna(0)\n",
    "\n",
    "train_x_L4_A = train_x.loc[(train_x['LINE']=='T050307') & (train_x['PRODUCT_CODE']=='A_31')]\n",
    "train_x_L4_A_Q = train_x_L4_A['Y_Quality']\n",
    "train_x_L4_A = train_x_L4_A[test_x_L4_A.columns]\n",
    "\n",
    "test_x_L4_A = test_x_L4_A.drop(columns=['X_1407', 'X_2874', 'X_2872','X_2873','X_2875','X_2838','X_1540'], axis=1)\n",
    "train_x_L4_A = train_x_L4_A.drop(columns=['X_1407', 'X_2874', 'X_2872','X_2873','X_2875','X_2838','X_1540'], axis=1)\n",
    "train_x_L4_A = pd.concat([train_x_L4_A_Q,train_x_L4_A], axis=1)\n",
    "train_x_L4_A = train_x_L4_A.fillna(test_x_L4_A.mean())\n",
    "# train_x_L4_A = train_x_L4_A.fillna(0)\n",
    "\n",
    "train_x_L4_A = train_x_L4_A.drop(columns=['PRODUCT_ID', 'LINE', 'PRODUCT_CODE'])\n",
    "corrMat = train_x_L4_A.corr()\n",
    "drop_list = corrMat['Y_Quality'].loc[(corrMat['Y_Quality']<0.1)&(corrMat['Y_Quality']>-0.1)].index\n",
    "test_x_L4_A = test_x_L4_A.drop(drop_list, axis=1)\n",
    "train_x_L4_A = train_x_L4_A.drop(drop_list, axis=1)\n",
    "train_x_L4_A\n",
    "train_y_L4_A = train_x_L4_A['Y_Quality']\n",
    "train_x_L4_A = train_x_L4_A.drop('Y_Quality', axis=1)\n",
    "test_x_L4_A = test_x_L4_A.drop(columns=['PRODUCT_ID', 'LINE', 'PRODUCT_CODE'])\n",
    "\n",
    "RF_L4_A = RandomForestRegressor(random_state=37,n_estimators = 100).fit(train_x_L4_A, train_y_L4_A)\n",
    "print('Done.')\n",
    "test_x_L4_A = test_x_L4_A[train_x_L4_A.columns]\n",
    "preds = RF_L4_A.predict(test_x_L4_A)\n",
    "test_x_L4_A['Y_Quality'] = preds\n",
    "print(test_x_L4_A['Y_Quality'].max()-test_x_L4_A['Y_Quality'].min())\n",
    "test_x_L4_A['Y_Quality']\n"
   ]
  },
  {
   "cell_type": "code",
   "execution_count": 18,
   "metadata": {},
   "outputs": [
    {
     "name": "stderr",
     "output_type": "stream",
     "text": [
      "C:\\Users\\kim\\AppData\\Local\\Temp\\ipykernel_18104\\862107758.py:11: FutureWarning: The default value of numeric_only in DataFrame.mean is deprecated. In a future version, it will default to False. In addition, specifying 'numeric_only=None' is deprecated. Select only valid columns or specify the value of numeric_only to silence this warning.\n",
      "  test_x_L5_T = test_x_L5_T.fillna(test_x_L5_T.mean())\n",
      "C:\\Users\\kim\\AppData\\Local\\Temp\\ipykernel_18104\\862107758.py:21: FutureWarning: The default value of numeric_only in DataFrame.mean is deprecated. In a future version, it will default to False. In addition, specifying 'numeric_only=None' is deprecated. Select only valid columns or specify the value of numeric_only to silence this warning.\n",
      "  train_x_L5_T = train_x_L5_T.fillna(test_x_L5_T.mean())\n"
     ]
    },
    {
     "name": "stdout",
     "output_type": "stream",
     "text": [
      "Done.\n",
      "0.013164745860000271\n"
     ]
    },
    {
     "data": {
      "text/plain": [
       "1      0.533509\n",
       "2      0.531719\n",
       "15     0.525262\n",
       "17     0.529383\n",
       "20     0.528511\n",
       "         ...   \n",
       "300    0.527256\n",
       "302    0.527251\n",
       "303    0.527632\n",
       "304    0.528255\n",
       "306    0.529217\n",
       "Name: Y_Quality, Length: 108, dtype: float64"
      ]
     },
     "execution_count": 18,
     "metadata": {},
     "output_type": "execute_result"
    }
   ],
   "source": [
    "test_x_L5_T = test_x.loc[(test_x['LINE']=='T100304') & (test_x['PRODUCT_CODE']=='T_31')]\n",
    "test_x_L5_T = test_x_L5_T.dropna(how = 'all', axis=1)\n",
    "test_x_L5_T_minmax = test_x_L5_T.drop(columns=['PRODUCT_ID', 'LINE', 'PRODUCT_CODE'])\n",
    "test_x_L5_T_minmax = pd.DataFrame(test_x_L5_T_minmax.apply(lambda x: x.max() - x.min(), axis=0))\n",
    "test_x_L5_T_minmax_1 = test_x_L5_T_minmax.transpose()\n",
    "list_zero_index = []\n",
    "for i in range(len(test_x_L5_T_minmax)):\n",
    "    if test_x_L5_T_minmax_1[test_x_L5_T_minmax.index[i]][0]==0.0:\n",
    "        list_zero_index.append(test_x_L5_T_minmax.index[i])\n",
    "test_x_L5_T = test_x_L5_T.drop(list_zero_index, axis=1)\n",
    "test_x_L5_T = test_x_L5_T.fillna(test_x_L5_T.mean())\n",
    "# test_x_L5_T = test_x_L5_T.fillna(0)\n",
    "\n",
    "train_x_L5_T = train_x.loc[(train_x['LINE']=='T100304') & (train_x['PRODUCT_CODE']=='T_31')]\n",
    "train_x_L5_T_Q = train_x_L5_T['Y_Quality']\n",
    "train_x_L5_T = train_x_L5_T[test_x_L5_T.columns]\n",
    "\n",
    "test_x_L5_T = test_x_L5_T.drop(columns=['X_699', 'X_936', 'X_934','X_935','X_937'], axis=1)\n",
    "train_x_L5_T = train_x_L5_T.drop(columns=['X_699', 'X_936', 'X_934','X_935','X_937'], axis=1)\n",
    "train_x_L5_T = pd.concat([train_x_L5_T_Q,train_x_L5_T], axis=1)\n",
    "train_x_L5_T = train_x_L5_T.fillna(test_x_L5_T.mean())\n",
    "# train_x_L5_T = train_x_L5_T.fillna(0)\n",
    "\n",
    "train_x_L5_T = train_x_L5_T.drop(columns=['PRODUCT_ID', 'LINE', 'PRODUCT_CODE'])\n",
    "corrMat = train_x_L5_T.corr()\n",
    "drop_list = corrMat['Y_Quality'].loc[(corrMat['Y_Quality']<0.1)&(corrMat['Y_Quality']>-0.1)].index\n",
    "test_x_L5_T = test_x_L5_T.drop(drop_list, axis=1)\n",
    "train_x_L5_T = train_x_L5_T.drop(drop_list, axis=1)\n",
    "train_x_L5_T\n",
    "train_y_L5_T = train_x_L5_T['Y_Quality']\n",
    "train_x_L5_T = train_x_L5_T.drop('Y_Quality', axis=1)\n",
    "test_x_L5_T = test_x_L5_T.drop(columns=['PRODUCT_ID', 'LINE', 'PRODUCT_CODE'])\n",
    "\n",
    "RF_L5_T = RandomForestRegressor(random_state=37,n_estimators = 100).fit(train_x_L5_T, train_y_L5_T)\n",
    "print('Done.')\n",
    "test_x_L5_T = test_x_L5_T[train_x_L5_T.columns]\n",
    "preds = RF_L5_T.predict(test_x_L5_T)\n",
    "test_x_L5_T['Y_Quality'] = preds\n",
    "print(test_x_L5_T['Y_Quality'].max()-test_x_L5_T['Y_Quality'].min())\n",
    "test_x_L5_T['Y_Quality']"
   ]
  },
  {
   "cell_type": "code",
   "execution_count": 19,
   "metadata": {},
   "outputs": [
    {
     "name": "stderr",
     "output_type": "stream",
     "text": [
      "C:\\Users\\kim\\AppData\\Local\\Temp\\ipykernel_18104\\138115264.py:11: FutureWarning: The default value of numeric_only in DataFrame.mean is deprecated. In a future version, it will default to False. In addition, specifying 'numeric_only=None' is deprecated. Select only valid columns or specify the value of numeric_only to silence this warning.\n",
      "  test_x_L6_T = test_x_L6_T.fillna(test_x_L6_T.mean())\n",
      "C:\\Users\\kim\\AppData\\Local\\Temp\\ipykernel_18104\\138115264.py:21: FutureWarning: The default value of numeric_only in DataFrame.mean is deprecated. In a future version, it will default to False. In addition, specifying 'numeric_only=None' is deprecated. Select only valid columns or specify the value of numeric_only to silence this warning.\n",
      "  train_x_L6_T = train_x_L6_T.fillna(test_x_L6_T.mean())\n"
     ]
    },
    {
     "name": "stdout",
     "output_type": "stream",
     "text": [
      "Done.\n",
      "0.022180507889999146\n"
     ]
    },
    {
     "data": {
      "text/plain": [
       "0      0.531338\n",
       "16     0.529236\n",
       "18     0.530658\n",
       "19     0.527878\n",
       "21     0.531880\n",
       "         ...   \n",
       "301    0.527836\n",
       "305    0.528817\n",
       "307    0.528256\n",
       "308    0.527663\n",
       "309    0.530068\n",
       "Name: Y_Quality, Length: 131, dtype: float64"
      ]
     },
     "execution_count": 19,
     "metadata": {},
     "output_type": "execute_result"
    }
   ],
   "source": [
    "test_x_L6_T = test_x.loc[(test_x['LINE']=='T100306') & (test_x['PRODUCT_CODE']=='T_31')]\n",
    "test_x_L6_T = test_x_L6_T.dropna(how = 'all', axis=1)\n",
    "test_x_L6_T_minmax = test_x_L6_T.drop(columns=['PRODUCT_ID', 'LINE', 'PRODUCT_CODE'])\n",
    "test_x_L6_T_minmax = pd.DataFrame(test_x_L6_T_minmax.apply(lambda x: x.max() - x.min(), axis=0))\n",
    "test_x_L6_T_minmax_1 = test_x_L6_T_minmax.transpose()\n",
    "list_zero_index = []\n",
    "for i in range(len(test_x_L6_T_minmax)):\n",
    "    if test_x_L6_T_minmax_1[test_x_L6_T_minmax.index[i]][0]==0.0:\n",
    "        list_zero_index.append(test_x_L6_T_minmax.index[i])\n",
    "test_x_L6_T = test_x_L6_T.drop(list_zero_index, axis=1)\n",
    "test_x_L6_T = test_x_L6_T.fillna(test_x_L6_T.mean())\n",
    "# test_x_L6_T = test_x_L6_T.fillna(0)\n",
    "\n",
    "train_x_L6_T = train_x.loc[(train_x['LINE']=='T100306') & (train_x['PRODUCT_CODE']=='T_31')]\n",
    "train_x_L6_T_Q = train_x_L6_T['Y_Quality']\n",
    "train_x_L6_T = train_x_L6_T[test_x_L6_T.columns]\n",
    "\n",
    "test_x_L6_T = test_x_L6_T.drop(columns=['X_699', 'X_936', 'X_934','X_935','X_937'], axis=1)\n",
    "train_x_L6_T = train_x_L6_T.drop(columns=['X_699', 'X_936', 'X_934','X_935','X_937'], axis=1)\n",
    "train_x_L6_T = pd.concat([train_x_L6_T_Q,train_x_L6_T], axis=1)\n",
    "train_x_L6_T = train_x_L6_T.fillna(test_x_L6_T.mean())\n",
    "# train_x_L6_T = train_x_L6_T.fillna(0)\n",
    "\n",
    "train_x_L6_T = train_x_L6_T.drop(columns=['PRODUCT_ID', 'LINE', 'PRODUCT_CODE'])\n",
    "corrMat = train_x_L6_T.corr()\n",
    "drop_list = corrMat['Y_Quality'].loc[(corrMat['Y_Quality']<0.1)&(corrMat['Y_Quality']>-0.1)].index\n",
    "test_x_L6_T = test_x_L6_T.drop(drop_list, axis=1)\n",
    "train_x_L6_T = train_x_L6_T.drop(drop_list, axis=1)\n",
    "train_x_L6_T\n",
    "train_y_L6_T = train_x_L6_T['Y_Quality']\n",
    "train_x_L6_T = train_x_L6_T.drop('Y_Quality', axis=1)\n",
    "test_x_L6_T = test_x_L6_T.drop(columns=['PRODUCT_ID', 'LINE', 'PRODUCT_CODE'])\n",
    "\n",
    "RF_L6_T = RandomForestRegressor(random_state=37,n_estimators = 100).fit(train_x_L6_T, train_y_L6_T)\n",
    "print('Done.')\n",
    "test_x_L6_T = test_x_L6_T[train_x_L6_T.columns]\n",
    "preds = RF_L6_T.predict(test_x_L6_T)\n",
    "test_x_L6_T['Y_Quality'] = preds\n",
    "print(test_x_L6_T['Y_Quality'].max()-test_x_L6_T['Y_Quality'].min())\n",
    "test_x_L6_T['Y_Quality']"
   ]
  },
  {
   "cell_type": "code",
   "execution_count": 20,
   "metadata": {},
   "outputs": [
    {
     "name": "stderr",
     "output_type": "stream",
     "text": [
      "C:\\Users\\kim\\AppData\\Local\\Temp\\ipykernel_18104\\1547528288.py:11: FutureWarning: The default value of numeric_only in DataFrame.mean is deprecated. In a future version, it will default to False. In addition, specifying 'numeric_only=None' is deprecated. Select only valid columns or specify the value of numeric_only to silence this warning.\n",
      "  test_x_L5_O = test_x_L5_O.fillna(test_x_L5_O.mean())\n",
      "C:\\Users\\kim\\AppData\\Local\\Temp\\ipykernel_18104\\1547528288.py:21: FutureWarning: The default value of numeric_only in DataFrame.mean is deprecated. In a future version, it will default to False. In addition, specifying 'numeric_only=None' is deprecated. Select only valid columns or specify the value of numeric_only to silence this warning.\n",
      "  train_x_L5_O = train_x_L5_O.fillna(test_x_L5_O.mean())\n"
     ]
    },
    {
     "name": "stdout",
     "output_type": "stream",
     "text": [
      "Done.\n",
      "0.00042417460000010454\n"
     ]
    },
    {
     "data": {
      "text/plain": [
       "138    0.529640\n",
       "256    0.529947\n",
       "287    0.529522\n",
       "Name: Y_Quality, dtype: float64"
      ]
     },
     "execution_count": 20,
     "metadata": {},
     "output_type": "execute_result"
    }
   ],
   "source": [
    "test_x_L5_O = test_x.loc[(test_x['LINE']=='T100304') & (test_x['PRODUCT_CODE']=='O_31')]\n",
    "test_x_L5_O = test_x_L5_O.dropna(how = 'all', axis=1)\n",
    "test_x_L5_O_minmax = test_x_L5_O.drop(columns=['PRODUCT_ID', 'LINE', 'PRODUCT_CODE'])\n",
    "test_x_L5_O_minmax = pd.DataFrame(test_x_L5_O_minmax.apply(lambda x: x.max() - x.min(), axis=0))\n",
    "test_x_L5_O_minmax_1 = test_x_L5_O_minmax.transpose()\n",
    "list_zero_index = []\n",
    "for i in range(len(test_x_L5_O_minmax)):\n",
    "    if test_x_L5_O_minmax_1[test_x_L5_O_minmax.index[i]][0]==0.0:\n",
    "        list_zero_index.append(test_x_L5_O_minmax.index[i])\n",
    "test_x_L5_O = test_x_L5_O.drop(list_zero_index, axis=1)\n",
    "test_x_L5_O = test_x_L5_O.fillna(test_x_L5_O.mean())\n",
    "# test_x_L5_O = test_x_L5_O.fillna(0)\n",
    "\n",
    "train_x_L5_O = train_x.loc[(train_x['LINE']=='T100304') & (train_x['PRODUCT_CODE']=='O_31')]\n",
    "train_x_L5_O_Q = train_x_L5_O['Y_Quality']\n",
    "train_x_L5_O = train_x_L5_O[test_x_L5_O.columns]\n",
    "train_x_L5_O.isnull().sum().sort_values()\n",
    "test_x_L5_O = test_x_L5_O.drop('X_699', axis=1)\n",
    "train_x_L5_O = train_x_L5_O.drop('X_699', axis=1)\n",
    "train_x_L5_O = pd.concat([train_x_L5_O_Q,train_x_L5_O], axis=1)\n",
    "train_x_L5_O = train_x_L5_O.fillna(test_x_L5_O.mean())\n",
    "# train_x_L5_O = train_x_L5_O.fillna(0)\n",
    "\n",
    "train_x_L5_O = train_x_L5_O.drop(columns=['PRODUCT_ID', 'LINE', 'PRODUCT_CODE'])\n",
    "corrMat = train_x_L5_O.corr()\n",
    "drop_list = corrMat['Y_Quality'].loc[(corrMat['Y_Quality']<0.1)&(corrMat['Y_Quality']>-0.1)].index\n",
    "test_x_L5_O = test_x_L5_O.drop(drop_list, axis=1)\n",
    "train_x_L5_O = train_x_L5_O.drop(drop_list, axis=1)\n",
    "train_x_L5_O\n",
    "train_y_L5_O = train_x_L5_O['Y_Quality']\n",
    "train_x_L5_O = train_x_L5_O.drop('Y_Quality', axis=1)\n",
    "test_x_L5_O = test_x_L5_O.drop(columns=['PRODUCT_ID', 'LINE', 'PRODUCT_CODE'])\n",
    "\n",
    "RF_L5_O = RandomForestRegressor(random_state=37,n_estimators = 100).fit(train_x_L5_O, train_y_L5_O)\n",
    "print('Done.')\n",
    "test_x_L5_O = test_x_L5_O[train_x_L5_O.columns]\n",
    "preds = RF_L5_O.predict(test_x_L5_O)\n",
    "test_x_L5_O['Y_Quality'] = preds\n",
    "print(test_x_L5_O['Y_Quality'].max()-test_x_L5_O['Y_Quality'].min())\n",
    "test_x_L5_O['Y_Quality']"
   ]
  },
  {
   "cell_type": "code",
   "execution_count": 21,
   "metadata": {},
   "outputs": [
    {
     "name": "stderr",
     "output_type": "stream",
     "text": [
      "C:\\Users\\kim\\AppData\\Local\\Temp\\ipykernel_18104\\1231052061.py:19: FutureWarning: The default value of numeric_only in DataFrame.mean is deprecated. In a future version, it will default to False. In addition, specifying 'numeric_only=None' is deprecated. Select only valid columns or specify the value of numeric_only to silence this warning.\n",
      "  train_x_L6_O = train_x_L6_O.fillna(test_x_L6_O.mean())\n"
     ]
    },
    {
     "name": "stdout",
     "output_type": "stream",
     "text": [
      "Done.\n",
      "0.0\n"
     ]
    },
    {
     "data": {
      "text/plain": [
       "257    0.534535\n",
       "Name: Y_Quality, dtype: float64"
      ]
     },
     "execution_count": 21,
     "metadata": {},
     "output_type": "execute_result"
    }
   ],
   "source": [
    "test_x_L6_O = test_x.loc[(test_x['LINE']=='T100306') & (test_x['PRODUCT_CODE']=='O_31')]\n",
    "test_x_L6_O = test_x_L6_O.dropna(how = 'all', axis=1)\n",
    "test_x_L6_O_minmax = test_x_L6_O.drop(columns=['PRODUCT_ID', 'LINE', 'PRODUCT_CODE'])\n",
    "# test_x_L6_O_minmax = pd.DataFrame(test_x_L6_O_minmax.apply(lambda x: x.max() - x.min(), axis=0))\n",
    "# test_x_L6_O_minmax_1 = test_x_L6_O_minmax.transpose()\n",
    "# list_zero_index = []\n",
    "# for i in range(len(test_x_L6_O_minmax)):\n",
    "#     if test_x_L6_O_minmax_1[test_x_L6_O_minmax.index[i]][0]==0.0:\n",
    "#         list_zero_index.append(test_x_L6_O_minmax.index[i])\n",
    "# test_x_L6_O = test_x_L6_O.drop(list_zero_index, axis=1)\n",
    "# test_x_L6_O = test_x_L6_O.fillna(test_x_L6_O.mean())\n",
    "# test_x_L6_O = test_x_L6_O.fillna(0)\n",
    "\n",
    "train_x_L6_O = train_x.loc[(train_x['LINE']=='T100306') & (train_x['PRODUCT_CODE']=='O_31')]\n",
    "train_x_L6_O_Q = train_x_L6_O['Y_Quality']\n",
    "train_x_L6_O = train_x_L6_O[test_x_L6_O.columns]\n",
    "\n",
    "train_x_L6_O = pd.concat([train_x_L6_O_Q,train_x_L6_O], axis=1)\n",
    "train_x_L6_O = train_x_L6_O.fillna(test_x_L6_O.mean())\n",
    "# train_x_L6_O = train_x_L6_O.fillna(0)\n",
    "\n",
    "\n",
    "train_x_L6_O = train_x_L6_O.drop(columns=['PRODUCT_ID', 'LINE', 'PRODUCT_CODE'])\n",
    "corrMat = train_x_L6_O.corr()\n",
    "drop_list = corrMat['Y_Quality'].loc[(corrMat['Y_Quality']<0.1)&(corrMat['Y_Quality']>-0.1)].index\n",
    "test_x_L6_O = test_x_L6_O.drop(drop_list, axis=1)\n",
    "train_x_L6_O = train_x_L6_O.drop(drop_list, axis=1)\n",
    "train_x_L6_O\n",
    "train_y_L6_O = train_x_L6_O['Y_Quality']\n",
    "train_x_L6_O = train_x_L6_O.drop('Y_Quality', axis=1)\n",
    "test_x_L6_O = test_x_L6_O.drop(columns=['PRODUCT_ID', 'LINE', 'PRODUCT_CODE'])\n",
    "\n",
    "RF_L6_O = RandomForestRegressor(random_state=37,n_estimators = 100).fit(train_x_L6_O, train_y_L6_O)\n",
    "print('Done.')\n",
    "test_x_L6_O = test_x_L6_O[train_x_L6_O.columns]\n",
    "preds = RF_L6_O.predict(test_x_L6_O)\n",
    "test_x_L6_O['Y_Quality'] = preds\n",
    "print(test_x_L6_O['Y_Quality'].max()-test_x_L6_O['Y_Quality'].min())\n",
    "test_x_L6_O['Y_Quality']"
   ]
  },
  {
   "cell_type": "code",
   "execution_count": 22,
   "metadata": {},
   "outputs": [],
   "source": [
    "y=pd.DataFrame({'Y_Quality':[],\n",
    "                'Y_Class':[]})"
   ]
  },
  {
   "cell_type": "code",
   "execution_count": 365,
   "metadata": {},
   "outputs": [
    {
     "data": {
      "text/html": [
       "<div>\n",
       "<style scoped>\n",
       "    .dataframe tbody tr th:only-of-type {\n",
       "        vertical-align: middle;\n",
       "    }\n",
       "\n",
       "    .dataframe tbody tr th {\n",
       "        vertical-align: top;\n",
       "    }\n",
       "\n",
       "    .dataframe thead th {\n",
       "        text-align: right;\n",
       "    }\n",
       "</style>\n",
       "<table border=\"1\" class=\"dataframe\">\n",
       "  <thead>\n",
       "    <tr style=\"text-align: right;\">\n",
       "      <th></th>\n",
       "      <th>Y_Quality</th>\n",
       "      <th>Y_Class</th>\n",
       "    </tr>\n",
       "  </thead>\n",
       "  <tbody>\n",
       "  </tbody>\n",
       "</table>\n",
       "</div>"
      ],
      "text/plain": [
       "Empty DataFrame\n",
       "Columns: [Y_Quality, Y_Class]\n",
       "Index: []"
      ]
     },
     "execution_count": 365,
     "metadata": {},
     "output_type": "execute_result"
    }
   ],
   "source": [
    "y"
   ]
  },
  {
   "cell_type": "code",
   "execution_count": 23,
   "metadata": {},
   "outputs": [],
   "source": [
    "y['Y_Quality'] = pd.concat([test_x_L1_A['Y_Quality'],test_x_L2_A['Y_Quality'],test_x_L3_A['Y_Quality'],test_x_L4_A['Y_Quality'],test_x_L5_T['Y_Quality'],test_x_L6_T['Y_Quality'],test_x_L5_O['Y_Quality'],test_x_L6_O['Y_Quality']], axis=0)"
   ]
  },
  {
   "cell_type": "code",
   "execution_count": 24,
   "metadata": {},
   "outputs": [
    {
     "data": {
      "text/html": [
       "<div>\n",
       "<style scoped>\n",
       "    .dataframe tbody tr th:only-of-type {\n",
       "        vertical-align: middle;\n",
       "    }\n",
       "\n",
       "    .dataframe tbody tr th {\n",
       "        vertical-align: top;\n",
       "    }\n",
       "\n",
       "    .dataframe thead th {\n",
       "        text-align: right;\n",
       "    }\n",
       "</style>\n",
       "<table border=\"1\" class=\"dataframe\">\n",
       "  <thead>\n",
       "    <tr style=\"text-align: right;\">\n",
       "      <th></th>\n",
       "      <th>Y_Quality</th>\n",
       "      <th>Y_Class</th>\n",
       "    </tr>\n",
       "  </thead>\n",
       "  <tbody>\n",
       "    <tr>\n",
       "      <th>7</th>\n",
       "      <td>0.526085</td>\n",
       "      <td>NaN</td>\n",
       "    </tr>\n",
       "    <tr>\n",
       "      <th>8</th>\n",
       "      <td>0.528160</td>\n",
       "      <td>NaN</td>\n",
       "    </tr>\n",
       "    <tr>\n",
       "      <th>14</th>\n",
       "      <td>0.523869</td>\n",
       "      <td>NaN</td>\n",
       "    </tr>\n",
       "    <tr>\n",
       "      <th>35</th>\n",
       "      <td>0.522318</td>\n",
       "      <td>NaN</td>\n",
       "    </tr>\n",
       "    <tr>\n",
       "      <th>41</th>\n",
       "      <td>0.526234</td>\n",
       "      <td>NaN</td>\n",
       "    </tr>\n",
       "    <tr>\n",
       "      <th>...</th>\n",
       "      <td>...</td>\n",
       "      <td>...</td>\n",
       "    </tr>\n",
       "    <tr>\n",
       "      <th>309</th>\n",
       "      <td>0.530068</td>\n",
       "      <td>NaN</td>\n",
       "    </tr>\n",
       "    <tr>\n",
       "      <th>138</th>\n",
       "      <td>0.529640</td>\n",
       "      <td>NaN</td>\n",
       "    </tr>\n",
       "    <tr>\n",
       "      <th>256</th>\n",
       "      <td>0.529947</td>\n",
       "      <td>NaN</td>\n",
       "    </tr>\n",
       "    <tr>\n",
       "      <th>287</th>\n",
       "      <td>0.529522</td>\n",
       "      <td>NaN</td>\n",
       "    </tr>\n",
       "    <tr>\n",
       "      <th>257</th>\n",
       "      <td>0.534535</td>\n",
       "      <td>NaN</td>\n",
       "    </tr>\n",
       "  </tbody>\n",
       "</table>\n",
       "<p>310 rows × 2 columns</p>\n",
       "</div>"
      ],
      "text/plain": [
       "     Y_Quality  Y_Class\n",
       "7     0.526085      NaN\n",
       "8     0.528160      NaN\n",
       "14    0.523869      NaN\n",
       "35    0.522318      NaN\n",
       "41    0.526234      NaN\n",
       "..         ...      ...\n",
       "309   0.530068      NaN\n",
       "138   0.529640      NaN\n",
       "256   0.529947      NaN\n",
       "287   0.529522      NaN\n",
       "257   0.534535      NaN\n",
       "\n",
       "[310 rows x 2 columns]"
      ]
     },
     "execution_count": 24,
     "metadata": {},
     "output_type": "execute_result"
    }
   ],
   "source": [
    "y"
   ]
  },
  {
   "cell_type": "code",
   "execution_count": 368,
   "metadata": {},
   "outputs": [
    {
     "data": {
      "text/plain": [
       "0.5503737619599999"
      ]
     },
     "execution_count": 368,
     "metadata": {},
     "output_type": "execute_result"
    }
   ],
   "source": [
    "y['Y_Quality'].max()"
   ]
  },
  {
   "cell_type": "code",
   "execution_count": 25,
   "metadata": {},
   "outputs": [
    {
     "data": {
      "text/html": [
       "<div>\n",
       "<style scoped>\n",
       "    .dataframe tbody tr th:only-of-type {\n",
       "        vertical-align: middle;\n",
       "    }\n",
       "\n",
       "    .dataframe tbody tr th {\n",
       "        vertical-align: top;\n",
       "    }\n",
       "\n",
       "    .dataframe thead th {\n",
       "        text-align: right;\n",
       "    }\n",
       "</style>\n",
       "<table border=\"1\" class=\"dataframe\">\n",
       "  <thead>\n",
       "    <tr style=\"text-align: right;\">\n",
       "      <th></th>\n",
       "      <th>Y_Quality</th>\n",
       "      <th>Y_Class</th>\n",
       "    </tr>\n",
       "  </thead>\n",
       "  <tbody>\n",
       "    <tr>\n",
       "      <th>0</th>\n",
       "      <td>0.531338</td>\n",
       "      <td>NaN</td>\n",
       "    </tr>\n",
       "    <tr>\n",
       "      <th>1</th>\n",
       "      <td>0.533509</td>\n",
       "      <td>NaN</td>\n",
       "    </tr>\n",
       "    <tr>\n",
       "      <th>2</th>\n",
       "      <td>0.531719</td>\n",
       "      <td>NaN</td>\n",
       "    </tr>\n",
       "    <tr>\n",
       "      <th>3</th>\n",
       "      <td>0.527492</td>\n",
       "      <td>NaN</td>\n",
       "    </tr>\n",
       "    <tr>\n",
       "      <th>4</th>\n",
       "      <td>0.533796</td>\n",
       "      <td>NaN</td>\n",
       "    </tr>\n",
       "    <tr>\n",
       "      <th>...</th>\n",
       "      <td>...</td>\n",
       "      <td>...</td>\n",
       "    </tr>\n",
       "    <tr>\n",
       "      <th>305</th>\n",
       "      <td>0.528817</td>\n",
       "      <td>NaN</td>\n",
       "    </tr>\n",
       "    <tr>\n",
       "      <th>306</th>\n",
       "      <td>0.529217</td>\n",
       "      <td>NaN</td>\n",
       "    </tr>\n",
       "    <tr>\n",
       "      <th>307</th>\n",
       "      <td>0.528256</td>\n",
       "      <td>NaN</td>\n",
       "    </tr>\n",
       "    <tr>\n",
       "      <th>308</th>\n",
       "      <td>0.527663</td>\n",
       "      <td>NaN</td>\n",
       "    </tr>\n",
       "    <tr>\n",
       "      <th>309</th>\n",
       "      <td>0.530068</td>\n",
       "      <td>NaN</td>\n",
       "    </tr>\n",
       "  </tbody>\n",
       "</table>\n",
       "<p>310 rows × 2 columns</p>\n",
       "</div>"
      ],
      "text/plain": [
       "     Y_Quality  Y_Class\n",
       "0     0.531338      NaN\n",
       "1     0.533509      NaN\n",
       "2     0.531719      NaN\n",
       "3     0.527492      NaN\n",
       "4     0.533796      NaN\n",
       "..         ...      ...\n",
       "305   0.528817      NaN\n",
       "306   0.529217      NaN\n",
       "307   0.528256      NaN\n",
       "308   0.527663      NaN\n",
       "309   0.530068      NaN\n",
       "\n",
       "[310 rows x 2 columns]"
      ]
     },
     "execution_count": 25,
     "metadata": {},
     "output_type": "execute_result"
    }
   ],
   "source": [
    "y = y.sort_index()\n",
    "y"
   ]
  },
  {
   "cell_type": "code",
   "execution_count": 26,
   "metadata": {},
   "outputs": [],
   "source": [
    "y['Y_Class'] = 0"
   ]
  },
  {
   "cell_type": "code",
   "execution_count": 27,
   "metadata": {},
   "outputs": [
    {
     "name": "stderr",
     "output_type": "stream",
     "text": [
      "C:\\Users\\kim\\AppData\\Local\\Temp\\ipykernel_18104\\2105829396.py:1: SettingWithCopyWarning: \n",
      "A value is trying to be set on a copy of a slice from a DataFrame\n",
      "\n",
      "See the caveats in the documentation: https://pandas.pydata.org/pandas-docs/stable/user_guide/indexing.html#returning-a-view-versus-a-copy\n",
      "  y['Y_Class'].loc[y['Y_Quality']<=0.5250761905] = 0\n",
      "C:\\Users\\kim\\AppData\\Local\\Temp\\ipykernel_18104\\2105829396.py:2: SettingWithCopyWarning: \n",
      "A value is trying to be set on a copy of a slice from a DataFrame\n",
      "\n",
      "See the caveats in the documentation: https://pandas.pydata.org/pandas-docs/stable/user_guide/indexing.html#returning-a-view-versus-a-copy\n",
      "  y['Y_Class'].loc[(y['Y_Quality']>0.5250761905)&(y['Y_Quality']<=0.534950794)] = 1\n",
      "C:\\Users\\kim\\AppData\\Local\\Temp\\ipykernel_18104\\2105829396.py:3: SettingWithCopyWarning: \n",
      "A value is trying to be set on a copy of a slice from a DataFrame\n",
      "\n",
      "See the caveats in the documentation: https://pandas.pydata.org/pandas-docs/stable/user_guide/indexing.html#returning-a-view-versus-a-copy\n",
      "  y['Y_Class'].loc[y['Y_Quality']>0.534950794] = 2\n"
     ]
    }
   ],
   "source": [
    "y['Y_Class'].loc[y['Y_Quality']<=0.5250761905] = 0\n",
    "y['Y_Class'].loc[(y['Y_Quality']>0.5250761905)&(y['Y_Quality']<=0.534950794)] = 1\n",
    "y['Y_Class'].loc[y['Y_Quality']>0.534950794] = 2"
   ]
  },
  {
   "cell_type": "code",
   "execution_count": 28,
   "metadata": {},
   "outputs": [
    {
     "data": {
      "text/plain": [
       "0.5274916191300001"
      ]
     },
     "execution_count": 28,
     "metadata": {},
     "output_type": "execute_result"
    }
   ],
   "source": [
    "y['Y_Quality'][3]"
   ]
  },
  {
   "cell_type": "code",
   "execution_count": 29,
   "metadata": {},
   "outputs": [
    {
     "data": {
      "text/plain": [
       "0.029818952179999414"
      ]
     },
     "execution_count": 29,
     "metadata": {},
     "output_type": "execute_result"
    }
   ],
   "source": [
    "y['Y_Quality'].max() - y['Y_Quality'].min()"
   ]
  },
  {
   "cell_type": "code",
   "execution_count": 30,
   "metadata": {},
   "outputs": [
    {
     "data": {
      "text/plain": [
       "0.07798571399999998"
      ]
     },
     "execution_count": 30,
     "metadata": {},
     "output_type": "execute_result"
    }
   ],
   "source": [
    "train_df['Y_Quality'].max() - train_df['Y_Quality'].min()"
   ]
  },
  {
   "cell_type": "code",
   "execution_count": 31,
   "metadata": {},
   "outputs": [],
   "source": [
    "y = y.astype('int')"
   ]
  },
  {
   "cell_type": "code",
   "execution_count": 32,
   "metadata": {},
   "outputs": [],
   "source": [
    "submit['Y_Class'] = y['Y_Class']"
   ]
  },
  {
   "cell_type": "code",
   "execution_count": 33,
   "metadata": {},
   "outputs": [],
   "source": [
    "submit.to_csv('./baseline_submission_ky_5.csv', index=False)"
   ]
  },
  {
   "cell_type": "code",
   "execution_count": null,
   "metadata": {},
   "outputs": [],
   "source": []
  }
 ],
 "metadata": {
  "kernelspec": {
   "display_name": "boostcamp",
   "language": "python",
   "name": "python3"
  },
  "language_info": {
   "codemirror_mode": {
    "name": "ipython",
    "version": 3
   },
   "file_extension": ".py",
   "mimetype": "text/x-python",
   "name": "python",
   "nbconvert_exporter": "python",
   "pygments_lexer": "ipython3",
   "version": "3.10.4"
  },
  "orig_nbformat": 4,
  "vscode": {
   "interpreter": {
    "hash": "a152b24a664fc4166d603a2313ccec53f8837bdd04505974ff2a523ab063ea8e"
   }
  }
 },
 "nbformat": 4,
 "nbformat_minor": 2
}
